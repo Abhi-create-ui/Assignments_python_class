{
 "cells": [
  {
   "cell_type": "code",
   "execution_count": 53,
   "id": "6974cebb-ab05-45b1-a662-c62b761a6e4f",
   "metadata": {},
   "outputs": [
    {
     "name": "stdin",
     "output_type": "stream",
     "text": [
      "Enter the number of units consumed 350\n"
     ]
    },
    {
     "name": "stdout",
     "output_type": "stream",
     "text": [
      "Total electricity bill is rs 2000\n"
     ]
    }
   ],
   "source": [
    "#Q1.\n",
    "units= int(input(\"Enter the number of units consumed\"))\n",
    "# bacause input function always gives an string so that's we use \"int\" function here\n",
    "# int here is used because it will convert \"str\" which comes from input into \"int\"\n",
    "\n",
    "if  units<=100:\n",
    "    bill=0\n",
    "\n",
    "if units>100 and units<=200:\n",
    "    bill=(units-100)*5\n",
    "\n",
    "if units>200:\n",
    "    bill=(100*5) + (units-200)*10\n",
    "    \n",
    "print(\"Total electricity bill is rs\", bill)\n"
   ]
  },
  {
   "cell_type": "code",
   "execution_count": 57,
   "id": "1594223e-7b8a-419f-9750-99408e0d322b",
   "metadata": {},
   "outputs": [
    {
     "name": "stdin",
     "output_type": "stream",
     "text": [
      " Enter marks of student in percentage 85\n"
     ]
    },
    {
     "name": "stdout",
     "output_type": "stream",
     "text": [
      "Grade of the student is B\n"
     ]
    }
   ],
   "source": [
    "#Q2.\n",
    "Marks= int(input(\" Enter marks of student in percentage\"))\n",
    "\n",
    "if Marks>90:\n",
    "    Grade= \"A\"\n",
    "\n",
    "if Marks<=90 and Marks>80:\n",
    "    Grade= \"B\"\n",
    "\n",
    "if Marks>=60 and Marks<=80:\n",
    "    Grade=\"C\"\n",
    "\n",
    "if Marks<60:\n",
    "    Grade=\"D\"\n",
    "\n",
    "print(\"Grade of the student is\", Grade)"
   ]
  },
  {
   "cell_type": "code",
   "execution_count": 63,
   "id": "a8081495-5630-4ff6-9df7-7a2f72875ecb",
   "metadata": {},
   "outputs": [
    {
     "name": "stdin",
     "output_type": "stream",
     "text": [
      " Enter the age of the person 1 15\n",
      " Enter the age of the person 2 27\n",
      " Enter the age of the person 3 35\n",
      " Enter the age of the person 4 43\n"
     ]
    },
    {
     "name": "stdout",
     "output_type": "stream",
     "text": [
      "The youngest age is 15\n"
     ]
    }
   ],
   "source": [
    "#Q3.\n",
    "age1= int(input(\" Enter the age of the person 1\"))\n",
    "age2= int(input(\" Enter the age of the person 2\"))\n",
    "age3= int(input(\" Enter the age of the person 3\"))\n",
    "age4= int(input(\" Enter the age of the person 4\"))\n",
    "\n",
    "youngest=age1\n",
    "\n",
    "if age2<youngest:\n",
    "    youngest= age2\n",
    "\n",
    "if age3<youngest:\n",
    "    youngest= age3\n",
    "\n",
    "if age4<youngest:\n",
    "    youngest= age4\n",
    "\n",
    "print(\"The youngest age is\", youngest)"
   ]
  },
  {
   "cell_type": "code",
   "execution_count": 71,
   "id": "20b3d6c9-83ae-4406-9a5f-662947df7215",
   "metadata": {},
   "outputs": [
    {
     "name": "stdin",
     "output_type": "stream",
     "text": [
      "Enter your salary:  30000\n",
      "Enter your years of service:  12\n"
     ]
    },
    {
     "name": "stdout",
     "output_type": "stream",
     "text": [
      "Your bonus amount is Rs 3000.0\n"
     ]
    }
   ],
   "source": [
    "#Q4.\n",
    "salary = float(input(\"Enter your salary: \"))\n",
    "years_of_service = float(input(\"Enter your years of service: \"))\n",
    "bonus = 0\n",
    "# here we use float because \"int\" omly accept whole numbers but \"float\" can accept decimal too...\n",
    "\n",
    "if years_of_service > 10:\n",
    "    bonus = salary * 0.10\n",
    "\n",
    "if years_of_service >= 6 and years_of_service <= 10:\n",
    "    bonus = salary * 0.08\n",
    "\n",
    "if years_of_service < 6:\n",
    "    bonus = salary * 0.05\n",
    "    \n",
    "print(\"Your bonus amount is Rs\", bonus)\n"
   ]
  },
  {
   "cell_type": "code",
   "execution_count": 79,
   "id": "dec0cac8-3ec8-4108-8711-64140a4bc742",
   "metadata": {},
   "outputs": [
    {
     "name": "stdin",
     "output_type": "stream",
     "text": [
      "enter the number1 45\n",
      "enter the number2 56\n",
      "enter the number3 75\n"
     ]
    },
    {
     "name": "stdout",
     "output_type": "stream",
     "text": [
      "Largest number is 75\n"
     ]
    }
   ],
   "source": [
    "#Q5.\n",
    "Number1 = int(input(\"enter the number1\"))\n",
    "Number2 = int(input(\"enter the number2\"))\n",
    "Number3 = int(input(\"enter the number3\"))\n",
    "largest = Number1\n",
    "\n",
    "if Number2 > largest:\n",
    "    largest = Number2\n",
    "\n",
    "if Number3 > largest:\n",
    "    largest = Number3\n",
    "\n",
    "print(\"Largest number is\", largest)"
   ]
  },
  {
   "cell_type": "code",
   "execution_count": 83,
   "id": "2d5d092f-46ab-4faa-b438-03fa113d2e1c",
   "metadata": {},
   "outputs": [
    {
     "name": "stdin",
     "output_type": "stream",
     "text": [
      "Enter the marked price 12000\n"
     ]
    },
    {
     "name": "stdout",
     "output_type": "stream",
     "text": [
      "net_amount is 9600.0\n"
     ]
    }
   ],
   "source": [
    "#Q6.\n",
    "marked_price = float(input(\"Enter the marked price\"))\n",
    "discount=0\n",
    "\n",
    "if marked_price > 10000:\n",
    "    discount= (marked_price * 0.2)\n",
    "\n",
    "if marked_price > 7000 and marked_price <= 10000:\n",
    "    discount= (marked_price * 0.15)\n",
    "\n",
    "if marked_price <= 7000:\n",
    "    discount= (marked_price * 0.1)\n",
    "\n",
    "net_amount= (marked_price - discount)\n",
    "\n",
    "print(\"net_amount is\", net_amount)\n",
    "\n"
   ]
  },
  {
   "cell_type": "code",
   "execution_count": 89,
   "id": "f7d4056a-61c6-4047-814f-f59ed65bb4cf",
   "metadata": {},
   "outputs": [
    {
     "name": "stdin",
     "output_type": "stream",
     "text": [
      "enter marks of the english subject 85\n",
      "enter marks of the maths subject 75\n",
      "enter marks of the science subject 52\n",
      "enter marks of the social science subject 82\n"
     ]
    },
    {
     "name": "stdout",
     "output_type": "stream",
     "text": [
      "stream alloted to student is humanities\n"
     ]
    }
   ],
   "source": [
    "#Q7.\n",
    "marks_of_english = float(input(\"enter marks of the english subject\"))\n",
    "marks_of_maths = float(input(\"enter marks of the maths subject\"))\n",
    "marks_of_science = float(input(\"enter marks of the science subject\"))\n",
    "marks_of_social_science = float(input(\"enter marks of the social science subject\"))\n",
    "stream = {\"sicence, commerce. humanities\"}\n",
    "\n",
    "if marks_of_english > 80 and marks_of_maths > 80 and marks_of_science >80 and marks_of_social_science > 80:\n",
    "    stream= \"science\"\n",
    "\n",
    "if marks_of_english > 80 and marks_of_maths > 50 and marks_of_science > 50:\n",
    "    stream = \"commerce\"\n",
    "\n",
    "if marks_of_english > 80 and marks_of_social_science >80:\n",
    "    stream = \"humanities\"\n",
    "\n",
    "print(\"stream alloted to student is\", stream)"
   ]
  },
  {
   "cell_type": "code",
   "execution_count": 95,
   "id": "5acdfdb8-56cf-422d-bc17-f81cf80f0577",
   "metadata": {},
   "outputs": [
    {
     "name": "stdin",
     "output_type": "stream",
     "text": [
      "enter the number 520\n"
     ]
    },
    {
     "name": "stdout",
     "output_type": "stream",
     "text": [
      "Hello\n"
     ]
    }
   ],
   "source": [
    "#Q8.\n",
    "number = int(input(\"enter the number\"))\n",
    "\n",
    "if number % 5 == 0:\n",
    "    print(\"Hello\")\n",
    "\n",
    "else:\n",
    "    print(\"Bye\")"
   ]
  },
  {
   "cell_type": "code",
   "execution_count": 97,
   "id": "d461e75b-7ccc-403c-bda9-0bcd452fc6ff",
   "metadata": {},
   "outputs": [
    {
     "name": "stdin",
     "output_type": "stream",
     "text": [
      "enter the number 49\n"
     ]
    },
    {
     "name": "stdout",
     "output_type": "stream",
     "text": [
      "Not divisible by 3\n"
     ]
    }
   ],
   "source": [
    "#Q9.\n",
    "number = int(input(\"enter the number\"))\n",
    "\n",
    "if number % 3 == 0:\n",
    "    print(\"Divisible by 3\")\n",
    "\n",
    "else:\n",
    "    print(\"Not divisible by 3\")"
   ]
  },
  {
   "cell_type": "code",
   "execution_count": 101,
   "id": "99ec99a0-46a6-4cb0-8399-e654224dbb36",
   "metadata": {},
   "outputs": [
    {
     "name": "stdin",
     "output_type": "stream",
     "text": [
      "enter the number 456\n"
     ]
    },
    {
     "name": "stdout",
     "output_type": "stream",
     "text": [
      "It is a three digit number\n"
     ]
    }
   ],
   "source": [
    "#Q10.\n",
    "number = int(input(\"enter the number\"))\n",
    "\n",
    "if number >= 100 and number <= 999:\n",
    "    print(\"It is a three digit number\")\n",
    "\n",
    "else:\n",
    "    print(\"It is not a three digit number\")"
   ]
  }
 ],
 "metadata": {
  "kernelspec": {
   "display_name": "Python [conda env:base] *",
   "language": "python",
   "name": "conda-base-py"
  },
  "language_info": {
   "codemirror_mode": {
    "name": "ipython",
    "version": 3
   },
   "file_extension": ".py",
   "mimetype": "text/x-python",
   "name": "python",
   "nbconvert_exporter": "python",
   "pygments_lexer": "ipython3",
   "version": "3.12.7"
  }
 },
 "nbformat": 4,
 "nbformat_minor": 5
}
